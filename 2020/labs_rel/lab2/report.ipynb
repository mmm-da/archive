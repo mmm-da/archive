{
 "cells": [
  {
   "cell_type": "markdown",
   "metadata": {},
   "source": [
    "![Граф состояний](./diag.png)"
   ]
  },
  {
   "cell_type": "markdown",
   "metadata": {},
   "source": [
    "$P = \\begin{pmatrix}\n",
    "1           & 0           & 0            & 0            & 0            \\\\\n",
    "0           & 1           & 0            & 0            & 0            \\\\\n",
    "\\frac{1}{5} & 0           & 0            & \\frac{4}{5}  & 0            \\\\\n",
    "0           & 0           & \\frac{1}{10} & \\frac{4}{10} & \\frac{5}{10} \\\\\n",
    "0           & \\frac{5}{9} & 0            & \\frac{4}{9}  & 0            \\\\\n",
    "\\end{pmatrix}\n",
    "$\n",
    "\n"
   ]
  },
  {
   "cell_type": "code",
   "execution_count": 6,
   "metadata": {},
   "outputs": [
    {
     "output_type": "stream",
     "name": "stdout",
     "text": "N: [[1.26865672 2.68656716 1.34328358]\n [0.3358209  3.35820896 1.67910448]\n [0.14925373 1.49253731 1.74626866]]\nB: [[0.25373134 0.74626866]\n [0.06716418 0.93283582]\n [0.02985075 0.97014925]]\nСреднее время жизни (левая нога);  5.298507462686567\n"
    }
   ],
   "source": [
    "import numpy \n",
    "\n",
    "P = numpy.array([[1   ,0   ,0    ,0    ,0   ],\n",
    "                 [0   ,1   ,0    ,0    ,0   ],\n",
    "                 [1/5 ,0   ,0    ,4/5  ,0   ],\n",
    "                 [0   ,0   ,1/10 ,4/10 ,5/10],\n",
    "                 [0   ,5/9 ,0    ,4/9  ,0   ]])\n",
    "\n",
    "N = numpy.linalg.inv(numpy.eye(3) - P[2:,2:])\n",
    "\n",
    "B = N @ P[2: ,0:2]\n",
    "print(\"N:\",N)\n",
    "print(\"B:\",B)\n",
    "print(\"Среднее время жизни (левая нога); \",sum(N[0]))"
   ]
  },
  {
   "cell_type": "code",
   "execution_count": 7,
   "metadata": {
    "tags": [
     "outputPrepend",
     "outputPrepend",
     "outputPrepend",
     "outputPrepend",
     "outputPrepend",
     "outputPrepend",
     "outputPrepend",
     "outputPrepend",
     "outputPrepend",
     "outputPrepend",
     "outputPrepend",
     "outputPrepend",
     "outputPrepend",
     "outputPrepend",
     "outputPrepend",
     "outputPrepend",
     "outputPrepend",
     "outputPrepend",
     "outputPrepend",
     "outputPrepend",
     "outputPrepend",
     "outputPrepend",
     "outputPrepend",
     "outputPrepend",
     "outputPrepend",
     "outputPrepend",
     "outputPrepend",
     "outputPrepend",
     "outputPrepend",
     "outputPrepend",
     "outputPrepend",
     "outputPrepend",
     "outputPrepend",
     "outputPrepend",
     "outputPrepend",
     "outputPrepend",
     "outputPrepend",
     "outputPrepend",
     "outputPrepend",
     "outputPrepend",
     "outputPrepend"
    ]
   },
   "outputs": [
    {
     "output_type": "stream",
     "name": "stdout",
     "text": "Среднее время жизни:  5.2883\nВероятность попасть в поглощающие состояния (0,1):  0.2578 0.7422\n"
    }
   ],
   "source": [
    "import numpy\n",
    "from random import random\n",
    "\n",
    "n = 10000 # 10000 циклов\n",
    "state = 2 # начинаем с левой ноги\n",
    "\n",
    "absorb_count = [0,0] #Счетчик переходов в поглощающие состояния\n",
    "lifetimes = []\n",
    "\n",
    "for i in range (0,n):\n",
    "    state = 2\n",
    "    time = 0\n",
    "    while(state>1):\n",
    "        time += 1\n",
    "        rand_num = random()\n",
    "        check_num = 0\n",
    "        for index,prob_num in enumerate(P[state]):\n",
    "            if(check_num<rand_num<=(check_num+prob_num)):\n",
    "                state = index\n",
    "                break\n",
    "            check_num += prob_num\n",
    "        if (state == 0) or (state == 1):\n",
    "            absorb_count[state] += 1\n",
    "            break\n",
    "    lifetimes.append(time)\n",
    "\n",
    "print(\"Среднее время жизни: \",numpy.mean(lifetimes))\n",
    "print(\"Вероятность попасть в поглощающие состояния (0,1): \",absorb_count[0]/n,absorb_count[1]/n)"
   ]
  },
  {
   "cell_type": "code",
   "execution_count": 8,
   "metadata": {},
   "outputs": [
    {
     "output_type": "stream",
     "name": "stdout",
     "text": "Выборочное значение критерия: 0.47098106562695324\nТабличное значение критерия для (у.з. = 0.5): 1.96\n"
    }
   ],
   "source": [
    "from math import sqrt\n",
    "Kv = sqrt(n)*(absorb_count[0]/n-B[0][0])/sqrt(1-B[0][0])\n",
    "Kt = 1.96\n",
    "\n",
    "print(\"Выборочное значение критерия:\", Kv)\n",
    "print(\"Табличное значение критерия для (у.з. = 0.5):\", Kt)"
   ]
  }
 ],
 "metadata": {
  "language_info": {
   "name": "python",
   "codemirror_mode": {
    "name": "ipython",
    "version": 3
   },
   "version": "3.8.1-final"
  },
  "orig_nbformat": 2,
  "file_extension": ".py",
  "mimetype": "text/x-python",
  "name": "python",
  "npconvert_exporter": "python",
  "pygments_lexer": "ipython3",
  "version": 3,
  "kernelspec": {
   "name": "python38164bit1ed29bb5b4494d7d9160c2f834ee8751",
   "display_name": "Python 3.8.1 64-bit"
  }
 },
 "nbformat": 4,
 "nbformat_minor": 2
}