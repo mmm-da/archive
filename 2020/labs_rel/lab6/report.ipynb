{
 "cells": [
  {
   "cell_type": "markdown",
   "metadata": {},
   "source": [
    "# Задания к работе\n",
    "\n",
    "1. Построить структурную схему системы.\n",
    "2. Выполнить анализ системы методом, основанным на теоремах\n",
    "теории вероятности.\n",
    "3. Выполнить анализ системы методом минимальных путей и\n",
    "минимальных сечений.\n",
    "4. Составить для системы функцию алгебры логики.\n",
    "5. Применить алгоритм разрезания для вычисления вероятности\n",
    "безотказной работы системы.\n",
    "6. Составить программу, моделирующую работу системы при\n",
    "разном режиме обслуживания и случайном времени отказов и\n",
    "восстановлений.\n",
    "\n",
    "\n"
   ]
  },
  {
   "cell_type": "markdown",
   "metadata": {},
   "source": [
    "![Структурная схема системы](./sch.png)"
   ]
  },
  {
   "cell_type": "markdown",
   "metadata": {},
   "source": [
    "![](./sch_prog.png)"
   ]
  },
  {
   "cell_type": "markdown",
   "metadata": {},
   "source": [
    "Минимальные пути:\n",
    "\n",
    "* 1257\n",
    "* 1258\n",
    "* 1267\n",
    "* 1268\n",
    "* 3457\n",
    "* 3458\n",
    "* 3467\n",
    "* 3468\n",
    "\n",
    "Минимальные сечения:\n",
    "\n",
    "* 13\n",
    "* 24\n",
    "* 56\n",
    "* 78"
   ]
  },
  {
   "cell_type": "markdown",
   "metadata": {},
   "source": [
    "### Анализ системы методом перебора гипотез"
   ]
  },
  {
   "cell_type": "code",
   "execution_count": 11,
   "metadata": {},
   "outputs": [],
   "source": [
    "from itertools import combinations\n",
    "\n",
    "def hypo_calc(P,Q):\n",
    "    n = 8\n",
    "    universum = set(range(1,n+1))\n",
    "    hypotheses = []\n",
    "    P_H = []\n",
    "    for num_of_broken in range(n + 1):\n",
    "        hypotheses.extend(list(combinations(range(n), num_of_broken)))\n",
    "\n",
    "    for H in hypotheses:\n",
    "        P_H_i = 1\n",
    "        broken = set(H)\n",
    "        working = universum - broken\n",
    "        for item in broken:\n",
    "            P_H_i *= Q[item-1]\n",
    "        for item in working:\n",
    "            P_H_i *= P[item-1]\n",
    "        P_H.append(P_H_i)\n",
    "\n",
    "    #Минимальные сечения\n",
    "    fails = [{1,3}, {2,4}, {5,6}, {7,8}]\n",
    "\n",
    "    E = []\n",
    "    n_E = []\n",
    "    P_E = []\n",
    "    i = 0\n",
    "    for H in hypotheses:\n",
    "        not_failing = True\n",
    "        for fail in fails:\n",
    "            if fail.issubset(set(H)):\n",
    "                not_failing = False\n",
    "                break\n",
    "        if not_failing:\n",
    "            E.append(H)\n",
    "            P_E.append(P_H[i])\n",
    "        else:\n",
    "            n_E.append(H)\n",
    "        i += 1\n",
    "    return sum(P_E)"
   ]
  },
  {
   "cell_type": "markdown",
   "metadata": {},
   "source": [
    "### Анализ системы методом, основанным на теоримах теории вероятности\n",
    "\n",
    "Вероятность безотказной работы: $P = (1 - (1 - p_1p_2)(1-p_3p_4))(1-q_5q_6)(1-q_7q_8)$\n",
    "\n",
    "Вероятность отказа системы : $Q = 1 - P$"
   ]
  },
  {
   "cell_type": "code",
   "execution_count": 12,
   "metadata": {},
   "outputs": [],
   "source": [
    "def prob_calc(P,Q):\n",
    "    return (1-(1-P[0]*P[1])*(1-P[2]*P[3]))*(1-Q[4]*Q[5])*(1-Q[6]*Q[7])"
   ]
  },
  {
   "cell_type": "markdown",
   "metadata": {},
   "source": [
    "### Метод минимальных путей и сечений\n",
    "\n",
    "$$Q = q_1q_3 + q_2q_4 + q_5q_6 + q_7q_8 - q_1q_2q_3q_4 - q_1q_3q_5q_6 - q_1q_3q_7q_8 + q_1q_2q_3q_4q_5q_6 + q_1q_2q_3q_4q_7q_8 - q_1q_2q_3q_4q_5q_6q_7q_8$$ \n",
    "$$P = 1 - Q$$ "
   ]
  },
  {
   "cell_type": "code",
   "execution_count": 13,
   "metadata": {},
   "outputs": [],
   "source": [
    "def path_calc(P,Q):\n",
    "    Q_ps = Q[0]*Q[2] + Q[1]*Q[3] + Q[4]*Q[5] + Q[6]*Q[7] - Q[0]*Q[1]*Q[2]*Q[3] - Q[0]*Q[2]*Q[4]*Q[5] - Q[0]*Q[2]*Q[6]*Q[7] + Q[0]*Q[1]*Q[2]*Q[3]*Q[4]*Q[5] + Q[0]*Q[1]*Q[2]*Q[3]*Q[6]*Q[7] - Q[0]*Q[1]*Q[2]*Q[3]*Q[4]*Q[5]*Q[6]*Q[7]\n",
    "    return 1 - Q_ps"
   ]
  },
  {
   "cell_type": "markdown",
   "metadata": {},
   "source": [
    "### Функции алгебры логики для системы\n",
    "\n",
    "Функция работоспособности:\n",
    "\n",
    "$$(1 \\land 2 \\land 5 \\land7) \\lor (1 \\land 2 \\land 5 \\land 8) \\lor (1 \\land 2 \\land 6 \\land 7) \\lor (1 \\land 2 \\land 6 \\land 8) \\lor (3\\land 4 \\land 5 \\land 7) \\lor (3\\land 4 \\land 5\\land 8) \\lor (3\\land 4 \\land 6 \\land 7) \\lor (3\\land 4 \\land 6\\land 8)$$\n",
    "\n",
    "Функция неисправности:\n",
    "\n",
    "$$((1 \\land 2) \\lor (3\\land 4)) \\land (5 \\lor 6) \\land (7 \\lor 8)$$\n"
   ]
  },
  {
   "cell_type": "code",
   "execution_count": 14,
   "metadata": {},
   "outputs": [],
   "source": [
    "def logic_calc(P,Q):\n",
    "    return (P[0] * Q[1] * P[2] * P[3] * Q[4] * P[5] * Q[6] * P[7]) + (Q[0] * Q[1] * P[2] * P[3] * Q[4] * P[5] * P[6] * Q[7]) + (Q[0] * Q[1] * P[2] * P[3] * Q[4] * P[5] * P[6] * P[7]) + (Q[0] * Q[1] * P[2] * P[3] * P[4] * Q[5] * Q[6] * P[7]) + (Q[0] * Q[1] * P[2] * P[3] * P[4] * Q[5] * P[6] * Q[7]) + (Q[0] * Q[1] * P[2] * P[3] * P[4] * Q[5] * P[6] * P[7]) + (Q[0] * Q[1] * P[2] * P[3] * P[4] * P[5] * Q[6] * P[7]) + (Q[0] * Q[1] * P[2] * P[3] * P[4] * P[5] * P[6] * Q[7]) + (Q[0] * Q[1] * P[2] * P[3] * P[4] * P[5] * P[6] * P[7]) + (Q[0] * P[1] * P[2] * P[3] * Q[4] * P[5] * Q[6] * P[7]) + (Q[0] * P[1] * P[2] * P[3] * Q[4] * P[5] * P[6] * Q[7]) + (Q[0] * P[1] * P[2] * P[3] * Q[4] * P[5] * P[6] * P[7]) + (Q[0] * P[1] * P[2] * P[3] * P[4] * Q[5] * Q[6] * P[7]) + (Q[0] * P[1] * P[2] * P[3] * P[4] * Q[5] * P[6] * Q[7]) + (Q[0] * P[1] * P[2] * P[3] * P[4] * Q[5] * P[6] * P[7]) + (Q[0] * P[1] * P[2] * P[3] * P[4] * P[5] * Q[6] * P[7]) + (Q[0] * P[1] * P[2] * P[3] * P[4] * P[5] * P[6] * Q[7]) + (Q[0] * P[1] * P[2] * P[3] * P[4] * P[5] * P[6] * P[7]) + (P[0] * Q[1] * P[2] * P[3] * Q[4] * P[5] * Q[6] * P[7]) + (P[0] * Q[1] * P[2] * P[3] * Q[4] * P[5] * P[6] * Q[7]) + (P[0] * Q[1] * P[2] * P[3] * Q[4] * P[5] * P[6] * P[7]) + (P[0] * Q[1] * P[2] * P[3] * P[4] * Q[5] * Q[6] * P[7]) + (P[0] * Q[1] * P[2] * P[3] * P[4] * Q[5] * P[6] * Q[7]) + (P[0] * Q[1] * P[2] * P[3] * P[4] * Q[5] * P[6] * P[7]) + (P[0] * Q[1] * P[2] * P[3] * P[4] * P[5] * Q[6] * P[7]) + (P[0] * Q[1] * P[2] * P[3] * P[4] * P[5] * P[6] * Q[7]) + (P[0] * Q[1] * P[2] * P[3] * P[4] * P[5] * P[6] * P[7]) + (P[0] * P[1] * Q[2] * Q[3] * Q[4] * P[5] * Q[6] * P[7]) + (P[0] * P[1] * Q[2] * Q[3] * Q[4] * P[5] * P[6] * Q[7]) + (P[0] * P[1] * Q[2] * Q[3] * Q[4] * P[5] * P[6] * P[7]) + (P[0] * P[1] * Q[2] * Q[3] * P[4] * Q[5] * Q[6] * P[7]) + (P[0] * P[1] * Q[2] * Q[3] * P[4] * Q[5] * P[6] * Q[7]) + (P[0] * P[1] * Q[2] * Q[3] * P[4] * Q[5] * P[6] * P[7]) + (P[0] * P[1] * Q[2] * Q[3] * P[4] * P[5] * Q[6] * P[7]) + (P[0] * P[1] * Q[2] * Q[3] * P[4] * P[5] * P[6] * Q[7]) + (P[0] * P[1] * Q[2] * Q[3] * P[4] * P[5] * P[6] * P[7]) + (P[0] * P[1] * Q[2] * P[3] * Q[4] * P[5] * Q[6] * P[7]) + (P[0] * P[1] * Q[2] * P[3] * Q[4] * P[5] * P[6] * Q[7]) + (P[0] * P[1] * Q[2] * P[3] * Q[4] * P[5] * P[6] * P[7]) + (P[0] * P[1] * Q[2] * P[3] * P[4] * Q[5] * Q[6] * P[7]) + (P[0] * P[1] * Q[2] * P[3] * P[4] * Q[5] * P[6] * Q[7]) + (P[0] * P[1] * Q[2] * P[3] * P[4] * Q[5] * P[6] * P[7]) + (P[0] * P[1] * Q[2] * P[3] * P[4] * P[5] * Q[6] * P[7]) + (P[0] * P[1] * Q[2] * P[3] * P[4] * P[5] * P[6] * Q[7]) + (P[0] * P[1] * Q[2] * P[3] * P[4] * P[5] * P[6] * P[7]) + (P[0] * P[1] * P[2] * Q[3] * Q[4] * P[5] * Q[6] * P[7]) + (P[0] * P[1] * P[2] * Q[3] * Q[4] * P[5] * P[6] * Q[7]) + (P[0] * P[1] * P[2] * Q[3] * Q[4] * P[5] * P[6] * P[7]) + (P[0] * P[1] * P[2] * Q[3] * P[4] * Q[5] * Q[6] * P[7]) + (P[0] * P[1] * P[2] * Q[3] * P[4] * Q[5] * P[6] * Q[7]) + (P[0] * P[1] * P[2] * Q[3] * P[4] * Q[5] * P[6] * P[7]) + (P[0] * P[1] * P[2] * Q[3] * P[4] * P[5] * Q[6] * P[7]) + (P[0] * P[1] * P[2] * Q[3] * P[4] * P[5] * P[6] * Q[7]) + (P[0] * P[1] * P[2] * Q[3] * P[4] * P[5] * P[6] * P[7]) + (P[0] * P[1] * P[2] * P[3] * Q[4] * P[5] * Q[6] * P[7]) + (P[0] * P[1] * P[2] * P[3] * Q[4] * P[5] * P[6] * Q[7]) + (P[0] * P[1] * P[2] * P[3] * Q[4] * P[5] * P[6] * P[7]) + (P[0] * P[1] * P[2] * P[3] * P[4] * Q[5] * Q[6] * P[7]) + (P[0] * P[1] * P[2] * P[3] * P[4] * Q[5] * P[6] * Q[7]) + (P[0] * P[1] * P[2] * P[3] * P[4] * Q[5] * P[6] * P[7]) + (P[0] * P[1] * P[2] * P[3] * P[4] * P[5] * Q[6] * P[7]) + (P[0] * P[1] * P[2] * P[3] * P[4] * P[5] * P[6] * Q[7]) + (P[0] * P[1] * P[2] * P[3] * P[4] * P[5] * P[6] * P[7])"
   ]
  },
  {
   "cell_type": "code",
   "execution_count": 15,
   "metadata": {
    "tags": [
     "outputPrepend",
     "outputPrepend",
     "outputPrepend",
     "outputPrepend",
     "outputPrepend",
     "outputPrepend",
     "outputPrepend",
     "outputPrepend",
     "outputPrepend"
    ]
   },
   "outputs": [
    {
     "output_type": "execute_result",
     "data": {
      "text/plain": "'<table>\\n<thead>\\n<tr><th style=\"text-align: right;\">  P</th><th style=\"text-align: right;\">  Метод гипотез</th><th style=\"text-align: right;\">  Теоремы вероятности</th><th style=\"text-align: right;\">  Пути и сечения</th><th style=\"text-align: right;\">  Логические функции</th><th style=\"text-align: right;\">  Симуляция</th></tr>\\n</thead>\\n<tbody>\\n<tr><td style=\"text-align: right;\">0.6</td><td style=\"text-align: right;\">       0.497871</td><td style=\"text-align: right;\">             0.416586</td><td style=\"text-align: right;\">        0.429263</td><td style=\"text-align: right;\">            0.418245</td><td style=\"text-align: right;\">    0.49693</td></tr>\\n<tr><td style=\"text-align: right;\">0.7</td><td style=\"text-align: right;\">       0.68575 </td><td style=\"text-align: right;\">             0.612711</td><td style=\"text-align: right;\">        0.662908</td><td style=\"text-align: right;\">            0.615304</td><td style=\"text-align: right;\">    0.68277</td></tr>\\n<tr><td style=\"text-align: right;\">0.8</td><td style=\"text-align: right;\">       0.849347</td><td style=\"text-align: right;\">             0.802161</td><td style=\"text-align: right;\">        0.844675</td><td style=\"text-align: right;\">            0.804127</td><td style=\"text-align: right;\">    0.85014</td></tr>\\n<tr><td style=\"text-align: right;\">0.9</td><td style=\"text-align: right;\">       0.960596</td><td style=\"text-align: right;\">             0.944718</td><td style=\"text-align: right;\">        0.960298</td><td style=\"text-align: right;\">            0.945243</td><td style=\"text-align: right;\">    0.96045</td></tr>\\n</tbody>\\n</table>'",
      "text/html": "<table>\n<thead>\n<tr><th style=\"text-align: right;\">  P</th><th style=\"text-align: right;\">  Метод гипотез</th><th style=\"text-align: right;\">  Теоремы вероятности</th><th style=\"text-align: right;\">  Пути и сечения</th><th style=\"text-align: right;\">  Логические функции</th><th style=\"text-align: right;\">  Симуляция</th></tr>\n</thead>\n<tbody>\n<tr><td style=\"text-align: right;\">0.6</td><td style=\"text-align: right;\">       0.497871</td><td style=\"text-align: right;\">             0.416586</td><td style=\"text-align: right;\">        0.429263</td><td style=\"text-align: right;\">            0.418245</td><td style=\"text-align: right;\">    0.49693</td></tr>\n<tr><td style=\"text-align: right;\">0.7</td><td style=\"text-align: right;\">       0.68575 </td><td style=\"text-align: right;\">             0.612711</td><td style=\"text-align: right;\">        0.662908</td><td style=\"text-align: right;\">            0.615304</td><td style=\"text-align: right;\">    0.68277</td></tr>\n<tr><td style=\"text-align: right;\">0.8</td><td style=\"text-align: right;\">       0.849347</td><td style=\"text-align: right;\">             0.802161</td><td style=\"text-align: right;\">        0.844675</td><td style=\"text-align: right;\">            0.804127</td><td style=\"text-align: right;\">    0.85014</td></tr>\n<tr><td style=\"text-align: right;\">0.9</td><td style=\"text-align: right;\">       0.960596</td><td style=\"text-align: right;\">             0.944718</td><td style=\"text-align: right;\">        0.960298</td><td style=\"text-align: right;\">            0.945243</td><td style=\"text-align: right;\">    0.96045</td></tr>\n</tbody>\n</table>"
     },
     "metadata": {},
     "execution_count": 15
    }
   ],
   "source": [
    "import tabulate\n",
    "from random import random\n",
    "def simulate(p_val,t):\n",
    "    #сечения\n",
    "    f = [{1,3}, {2,4}, {5,6}, {7,8}]\n",
    "    fail_ticks = 0\n",
    "    broken_nodes = set()\n",
    "    system_down = False\n",
    "    for tick in range(0,t):\n",
    "        #чиним\n",
    "        broken_nodes.clear()\n",
    "        system_down = False\n",
    "        #пытаемся поломать\n",
    "        for index,i in enumerate(p_val,start = 1):\n",
    "            test = random()\n",
    "            if test>=i:\n",
    "                broken_nodes.add(index)\n",
    "        #проверяем сечения\n",
    "        for i in f:\n",
    "            if i.issubset(broken_nodes):\n",
    "                system_down = True\n",
    "        if system_down:\n",
    "            fail_ticks += 1\n",
    "    return (t-fail_ticks)/t\n",
    "\n",
    "def get_probs(p_val,n):\n",
    "    P = []\n",
    "    Q = []\n",
    "    for i in range(0,n):\n",
    "        P.append(p_val)\n",
    "        Q.append(1-p_val)\n",
    "    return P,Q\n",
    "\n",
    "def get_res(p_val,n):\n",
    "    P,Q = get_probs(p_val,n)\n",
    "    return p_val,hypo_calc(P,Q),prob_calc(P,Q),path_calc(P,Q),logic_calc(P,Q),simulate(P,10**5)\n",
    "\n",
    "names = ['P','Метод гипотез','Теоремы вероятности','Пути и сечения','Логические функции','Симуляция']\n",
    "\n",
    "table = []\n",
    "table.append(get_res(0.6,8))\n",
    "table.append(get_res(0.7,8))\n",
    "table.append(get_res(0.8,8))\n",
    "table.append(get_res(0.9,8))\n",
    "\n",
    "tabulate.tabulate(table,headers=names,tablefmt=\"html\")"
   ]
  },
  {
   "cell_type": "code",
   "execution_count": null,
   "metadata": {},
   "outputs": [],
   "source": []
  }
 ],
 "metadata": {
  "language_info": {
   "name": "python",
   "codemirror_mode": {
    "name": "ipython",
    "version": 3
   },
   "version": "3.8.1-final"
  },
  "orig_nbformat": 2,
  "file_extension": ".py",
  "mimetype": "text/x-python",
  "name": "python",
  "npconvert_exporter": "python",
  "pygments_lexer": "ipython3",
  "version": 3,
  "kernelspec": {
   "name": "python38164bit1ed29bb5b4494d7d9160c2f834ee8751",
   "display_name": "Python 3.8.1 64-bit"
  }
 },
 "nbformat": 4,
 "nbformat_minor": 2
}